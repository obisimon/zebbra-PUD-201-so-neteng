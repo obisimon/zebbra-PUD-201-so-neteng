{
 "cells": [
  {
   "cell_type": "code",
   "execution_count": 1,
   "metadata": {},
   "outputs": [],
   "source": [
    "from textfsm import TextFSM\n",
    "from io import StringIO"
   ]
  },
  {
   "cell_type": "code",
   "execution_count": 2,
   "metadata": {},
   "outputs": [],
   "source": [
    "tpl = '''Value VERSION (.+?)\n",
    "Value ROMMON (\\S+)\n",
    "Value HOSTNAME (\\S+)\n",
    "Value UPTIME (.+)\n",
    "Value RELOAD_REASON (.+?)\n",
    "Value RUNNING_IMAGE (\\S+)\n",
    "Value List HARDWARE (\\S+\\d\\S+)\n",
    "Value List SERIAL (\\S+)\n",
    "Value CONFIG_REGISTER (\\S+)\n",
    "Value List MAC ([0-9a-fA-F]{2}(:[0-9a-fA-F]{2}){5})\n",
    "\n",
    "Start\n",
    "  ^.*Software\\s.+\\),\\sVersion\\s${VERSION},*\\s+RELEASE.*\n",
    "  ^ROM: ${ROMMON}\n",
    "  ^\\s*${HOSTNAME}\\s+uptime\\s+is\\s+${UPTIME}\n",
    "  ^[sS]ystem\\s+image\\s+file\\s+is\\s+\"(.*?):${RUNNING_IMAGE}\"\n",
    "  ^(?:[lL]ast\\s+reload\\s+reason:|System\\s+returned\\s+to\\s+ROM\\s+by)\\s+${RELOAD_REASON}\\s*$$\n",
    "  ^[Pp]rocessor\\s+board\\s+ID\\s+${SERIAL}\n",
    "  ^[Cc]isco\\s+${HARDWARE}.+\n",
    "  ^[Cc]onfiguration\\s+register\\s+is\\s+${CONFIG_REGISTER}\n",
    "  ^Base [Ee]thernet MAC [Aa]ddress\\s+:\\s+${MAC}\n",
    "  ^Switch Port -> Stack\n",
    "  # Capture time-stamp if vty line has command time-stamping turned on\n",
    "  ^Load\\s+for\\s+\n",
    "  ^Time\\s+source\\s+is\n",
    "\n",
    "\n",
    "Stack\n",
    "  ^[Ss]ystem [Ss]erial [Nn]umber\\s+:\\s+${SERIAL}\n",
    "  ^[Mm]odel\\s+[Nn]umber\\s+:\\s+${HARDWARE}\\s*\n",
    "  ^[Cc]onfiguration\\s+register\\s+is\\s+${CONFIG_REGISTER}\n",
    "  ^Base [Ee]thernet MAC [Aa]ddress\\s+:\\s+${MAC}'''"
   ]
  },
  {
   "cell_type": "code",
   "execution_count": 3,
   "metadata": {},
   "outputs": [],
   "source": [
    "tfsm = TextFSM(StringIO(tpl))"
   ]
  },
  {
   "cell_type": "code",
   "execution_count": 4,
   "metadata": {},
   "outputs": [],
   "source": [
    "output = '''Cisco IOS Software, vios_l2 Software (vios_l2-ADVENTERPRISEK9-M), Version 15.2(CML_NIGHTLY_20180619)FLO_DSGS7, EARLY DEPLOYMENT DEVELOPMENT BUILD, synced to  V152_6_0_81_E\n",
    "Technical Support: http://www.********.com/techsupport\n",
    "Copyright (c) 1986-2018 by Cisco Systems, Inc.\n",
    "Compiled Tue 19-Jun-18 06:06 by mmen\n",
    "\n",
    "\n",
    "ROM: Bootstrap program is IOSv\n",
    "\n",
    "sw02 uptime is 1 week, 1 day, 9 hours, 22 minutes\n",
    "System returned to ROM by reload\n",
    "System image file is \"flash0:/vios_l2-adventerprisek9-m\"\n",
    "Last reload reason: Unknown reason\n",
    "\n",
    "\n",
    "\n",
    "This product contains cryptographic features and is subject to United\n",
    "States and local country laws governing import, export, transfer and\n",
    "use. Delivery of Cisco cryptographic products does not imply\n",
    "third-party authority to import, export, distribute or use encryption.\n",
    "Importers, exporters, distributors and users are responsible for\n",
    "compliance with U.S. and local country laws. By using this product you\n",
    "agree to comply with applicable laws and regulations. If you are unable\n",
    "to comply with U.S. and local laws, return this product immediately.\n",
    "\n",
    "A summary of U.S. laws governing Cisco cryptographic products may be found at:\n",
    "http://www.********.com/wwl/export/crypto/tool/stqrg.html\n",
    "\n",
    "If you require further assistance please contact us by sending email to\n",
    "export@********.com.\n",
    "\n",
    "Cisco IOSv () processor (revision 1.0) with 574713K/209920K bytes of memory.\n",
    "Processor board ID 9EI00FHC05X\n",
    "1 Virtual Ethernet interface\n",
    "16 Gigabit Ethernet interfaces\n",
    "DRAM configuration is 72 bits wide with parity disabled.\n",
    "256K bytes of non-volatile configuration memory.\n",
    "2097152K bytes of ATA System CompactFlash 0 (Read/Write)\n",
    "0K bytes of ATA CompactFlash 1 (Read/Write)\n",
    "0K bytes of ATA CompactFlash 2 (Read/Write)\n",
    "0K bytes of ATA CompactFlash 3 (Read/Write)\n",
    "\n",
    "Configuration register is 0x101'''"
   ]
  },
  {
   "cell_type": "code",
   "execution_count": 5,
   "metadata": {},
   "outputs": [
    {
     "data": {
      "text/plain": [
       "[{'VERSION': '',\n",
       "  'ROMMON': 'Bootstrap',\n",
       "  'HOSTNAME': 'sw02',\n",
       "  'UPTIME': '1 week, 1 day, 9 hours, 22 minutes',\n",
       "  'RELOAD_REASON': 'Unknown reason',\n",
       "  'RUNNING_IMAGE': '/vios_l2-adventerprisek9-m',\n",
       "  'HARDWARE': [],\n",
       "  'SERIAL': ['9EI00FHC05X'],\n",
       "  'CONFIG_REGISTER': '0x101',\n",
       "  'MAC': []}]"
      ]
     },
     "execution_count": 5,
     "metadata": {},
     "output_type": "execute_result"
    }
   ],
   "source": [
    "tfsm.Reset()\n",
    "tfsm.ParseTextToDicts(output)"
   ]
  },
  {
   "cell_type": "code",
   "execution_count": null,
   "metadata": {},
   "outputs": [],
   "source": []
  }
 ],
 "metadata": {
  "kernelspec": {
   "display_name": "Python 3",
   "language": "python",
   "name": "python3"
  },
  "language_info": {
   "codemirror_mode": {
    "name": "ipython",
    "version": 3
   },
   "file_extension": ".py",
   "mimetype": "text/x-python",
   "name": "python",
   "nbconvert_exporter": "python",
   "pygments_lexer": "ipython3",
   "version": "3.8.2"
  }
 },
 "nbformat": 4,
 "nbformat_minor": 4
}
